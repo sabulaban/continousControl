{
 "cells": [
  {
   "cell_type": "markdown",
   "metadata": {},
   "source": [
    "# Continuous Control\n",
    "\n",
    "---\n",
    "\n",
    "In this notebook, you will learn how to use the Unity ML-Agents environment for the second project of the [Deep Reinforcement Learning Nanodegree](https://www.udacity.com/course/deep-reinforcement-learning-nanodegree--nd893) program.\n",
    "\n",
    "### 1. Start the Environment\n",
    "\n",
    "We begin by importing the necessary packages.  If the code cell below returns an error, please revisit the project instructions to double-check that you have installed [Unity ML-Agents](https://github.com/Unity-Technologies/ml-agents/blob/master/docs/Installation.md) and [NumPy](http://www.numpy.org/)."
   ]
  },
  {
   "cell_type": "markdown",
   "metadata": {},
   "source": [
    "The environments corresponding to both versions of the environment are already saved in the Workspace and can be accessed at the file paths provided below.  \n",
    "\n",
    "Please select one of the two options below for loading the environment."
   ]
  },
  {
   "cell_type": "markdown",
   "metadata": {},
   "source": [
    "Next, we will start the environment!  **_Before running the code cell below_**, change the `file_name` parameter to match the location of the Unity environment that you downloaded.\n",
    "\n",
    "- **Mac**: `\"path/to/Reacher.app\"`\n",
    "- **Windows** (x86): `\"path/to/Reacher_Windows_x86/Reacher.exe\"`\n",
    "- **Windows** (x86_64): `\"path/to/Reacher_Windows_x86_64/Reacher.exe\"`\n",
    "- **Linux** (x86): `\"path/to/Reacher_Linux/Reacher.x86\"`\n",
    "- **Linux** (x86_64): `\"path/to/Reacher_Linux/Reacher.x86_64\"`\n",
    "- **Linux** (x86, headless): `\"path/to/Reacher_Linux_NoVis/Reacher.x86\"`\n",
    "- **Linux** (x86_64, headless): `\"path/to/Reacher_Linux_NoVis/Reacher.x86_64\"`\n",
    "\n",
    "For instance, if you are using a Mac, then you downloaded `Reacher.app`.  If this file is in the same folder as the notebook, then the line below should appear as follows:\n",
    "```\n",
    "env = UnityEnvironment(file_name=\"Reacher.app\")\n",
    "```"
   ]
  },
  {
   "cell_type": "code",
   "execution_count": 2,
   "metadata": {},
   "outputs": [
    {
     "name": "stderr",
     "output_type": "stream",
     "text": [
      "INFO:unityagents:\n",
      "'Academy' started successfully!\n",
      "Unity Academy name: Academy\n",
      "        Number of Brains: 1\n",
      "        Number of External Brains : 1\n",
      "        Lesson number : 0\n",
      "        Reset Parameters :\n",
      "\t\tgoal_speed -> 1.0\n",
      "\t\tgoal_size -> 5.0\n",
      "Unity brain name: ReacherBrain\n",
      "        Number of Visual Observations (per agent): 0\n",
      "        Vector Observation space type: continuous\n",
      "        Vector Observation space size (per agent): 33\n",
      "        Number of stacked Vector Observation: 1\n",
      "        Vector Action space type: continuous\n",
      "        Vector Action space size (per agent): 4\n",
      "        Vector Action descriptions: , , , \n"
     ]
    }
   ],
   "source": [
    "from unityagents import UnityEnvironment\n",
    "import numpy as np\n",
    "\n",
    "# select this option to load version 1 (with a single agent) of the environment\n",
    "env = UnityEnvironment(file_name='Reacher.many.app')\n",
    "\n",
    "# select this option to load version 2 (with 20 agents) of the environment\n",
    "#env = UnityEnvironment(file_name='/data/Reacher_Linux_NoVis/Reacher.x86_64')"
   ]
  },
  {
   "cell_type": "code",
   "execution_count": 3,
   "metadata": {},
   "outputs": [],
   "source": [
    "# get the default brain\n",
    "brain_name = env.brain_names[0]\n",
    "brain = env.brains[brain_name]"
   ]
  },
  {
   "cell_type": "markdown",
   "metadata": {},
   "source": [
    "### 2. Examine the State and Action Spaces\n",
    "\n",
    "Run the code cell below to print some information about the environment."
   ]
  },
  {
   "cell_type": "code",
   "execution_count": 4,
   "metadata": {},
   "outputs": [
    {
     "name": "stdout",
     "output_type": "stream",
     "text": [
      "Number of agents: 20\n",
      "Size of each action: 4\n",
      "There are 20 agents. Each observes a state with length: 33\n",
      "The state for the first agent looks like: [ 0.00000000e+00 -4.00000000e+00  0.00000000e+00  1.00000000e+00\n",
      " -0.00000000e+00 -0.00000000e+00 -4.37113883e-08  0.00000000e+00\n",
      "  0.00000000e+00  0.00000000e+00  0.00000000e+00  0.00000000e+00\n",
      "  0.00000000e+00  0.00000000e+00 -1.00000000e+01  0.00000000e+00\n",
      "  1.00000000e+00 -0.00000000e+00 -0.00000000e+00 -4.37113883e-08\n",
      "  0.00000000e+00  0.00000000e+00  0.00000000e+00  0.00000000e+00\n",
      "  0.00000000e+00  0.00000000e+00  5.75471878e+00 -1.00000000e+00\n",
      "  5.55726624e+00  0.00000000e+00  1.00000000e+00  0.00000000e+00\n",
      " -1.68164849e-01]\n"
     ]
    }
   ],
   "source": [
    "# reset the environment\n",
    "env_info = env.reset(train_mode=True)[brain_name]\n",
    "\n",
    "# number of agents\n",
    "num_agents = len(env_info.agents)\n",
    "print('Number of agents:', num_agents)\n",
    "\n",
    "# size of each action\n",
    "action_size = brain.vector_action_space_size\n",
    "print('Size of each action:', action_size)\n",
    "\n",
    "# examine the state space \n",
    "states = env_info.vector_observations\n",
    "state_size = states.shape[1]\n",
    "print('There are {} agents. Each observes a state with length: {}'.format(states.shape[0], state_size))\n",
    "print('The state for the first agent looks like:', states[0])"
   ]
  },
  {
   "cell_type": "markdown",
   "metadata": {},
   "source": [
    "### 3. Take Random Actions in the Environment\n",
    "\n",
    "In the next code cell, you will learn how to use the Python API to control the agent and receive feedback from the environment.\n",
    "\n",
    "Note that **in this coding environment, you will not be able to watch the agents while they are training**, and you should set `train_mode=True` to restart the environment."
   ]
  },
  {
   "cell_type": "code",
   "execution_count": 5,
   "metadata": {},
   "outputs": [
    {
     "name": "stdout",
     "output_type": "stream",
     "text": [
      "[0. 0. 0. 0. 0. 0. 0. 0. 0. 0. 0. 0. 0. 0. 0. 0. 0. 0. 0. 0.]\n",
      "Total score (averaged over agents) this episode: 0.06149999862536788\n"
     ]
    }
   ],
   "source": [
    "env_info = env.reset(train_mode=True)[brain_name]      # reset the environment    \n",
    "states = env_info.vector_observations                  # get the current state (for each agent)\n",
    "scores = np.zeros(num_agents)                          # initialize the score (for each agent)\n",
    "print(scores)\n",
    "while True:\n",
    "    actions = np.random.randn(num_agents, action_size) # select an action (for each agent)\n",
    "    actions = np.clip(actions, -1, 1)                  # all actions between -1 and 1\n",
    "    env_info = env.step(actions)[brain_name]           # send all actions to tne environment\n",
    "    next_states = env_info.vector_observations         # get next state (for each agent)\n",
    "    rewards = env_info.rewards                         # get reward (for each agent)\n",
    "    dones = env_info.local_done                        # see if episode finished\n",
    "    scores += env_info.rewards                         # update the score (for each agent)\n",
    "    states = next_states                               # roll over states to next time step\n",
    "    if np.any(dones):                                  # exit loop if episode finished\n",
    "        break\n",
    "print('Total score (averaged over agents) this episode: {}'.format(np.mean(scores)))"
   ]
  },
  {
   "cell_type": "markdown",
   "metadata": {},
   "source": [
    "### 4. It's Your Turn!\n",
    "\n",
    "Now it's your turn to train your own agent to solve the environment!  When training the environment, set `train_mode=True`, so that the line for resetting the environment looks like the following:\n",
    "```python\n",
    "env_info = env.reset(train_mode=True)[brain_name]\n",
    "```"
   ]
  },
  {
   "cell_type": "code",
   "execution_count": 1,
   "metadata": {},
   "outputs": [],
   "source": [
    "import torch\n",
    "import torch.nn as nn\n",
    "import torch.nn.functional as F\n",
    "import torch.optim as optim\n",
    "\n",
    "from collections import namedtuple, deque\n",
    "import random\n",
    "import copy"
   ]
  },
  {
   "cell_type": "code",
   "execution_count": 2,
   "metadata": {},
   "outputs": [],
   "source": [
    "import sys\n",
    "sys.path.insert(0, './classes')\n",
    "from models import Actor, Critic\n",
    "from agents import Agent"
   ]
  },
  {
   "cell_type": "code",
   "execution_count": 3,
   "metadata": {},
   "outputs": [],
   "source": [
    "from unityagents import UnityEnvironment\n",
    "import matplotlib.pyplot as plt\n",
    "import time\n",
    "import numpy as np\n",
    "from collections import deque\n",
    "import torch"
   ]
  },
  {
   "cell_type": "code",
   "execution_count": 6,
   "metadata": {},
   "outputs": [],
   "source": [
    "def ddpg(n_episodes=500, max_t=1000, solved_score=30.0, consec_episodes=100, print_every=1, train_mode=True,\n",
    "         actor_path='./models/actor_ckpt.pth', critic_path='./models/critic_ckpt.pth', num_agents = 20):\n",
    "    \n",
    "    mean_scores = []                               # list of mean scores from each episode\n",
    "    min_scores = []                                # list of lowest scores from each episode\n",
    "    max_scores = []                                # list of highest scores from each episode\n",
    "    best_score = -np.inf\n",
    "    scores_window = deque(maxlen=consec_episodes)  # mean scores from most recent episodes\n",
    "    moving_avgs = []                               # list of moving averages\n",
    "    \n",
    "    for i_episode in range(1, n_episodes+1):\n",
    "        env_info = env.reset(train_mode=train_mode)[brain_name] # reset environment\n",
    "        states = env_info.vector_observations                   # get current state for each agent      \n",
    "        scores = np.zeros(num_agents)                           # initialize score for each agent\n",
    "        agent.reset()\n",
    "        start_time = time.time()\n",
    "        for t in range(max_t):\n",
    "            actions = agent.act(states, add_noise=True)         # select an action\n",
    "            env_info = env.step(actions)[brain_name]            # send actions to environment\n",
    "            next_states = env_info.vector_observations          # get next state\n",
    "            rewards = env_info.rewards                          # get reward\n",
    "            dones = env_info.local_done                         # see if episode has finished\n",
    "            # save experience to replay buffer, perform learning step at defined interval\n",
    "            for state, action, reward, next_state, done in zip(states, actions, rewards, next_states, dones):\n",
    "                agent.step(state, action, reward, next_state, done, t)             \n",
    "            states = next_states\n",
    "            scores += rewards        \n",
    "            if np.any(dones):                                   # exit loop when episode ends\n",
    "                break\n",
    "\n",
    "        duration = time.time() - start_time\n",
    "        min_scores.append(np.min(scores))             # save lowest score for a single agent\n",
    "        max_scores.append(np.max(scores))             # save highest score for a single agent        \n",
    "        mean_scores.append(np.mean(scores))           # save mean score for the episode\n",
    "        scores_window.append(mean_scores[-1])         # save mean score to window\n",
    "        moving_avgs.append(np.mean(scores_window))    # save moving average\n",
    "                \n",
    "        if i_episode % print_every == 0:\n",
    "            print('\\rEpisode {} \\tMin: {:.1f}\\tMax: {:.1f}\\tMean: {:.1f}\\tMov. Avg: {:.1f}'.format(\\\n",
    "                  i_episode, min_scores[-1], max_scores[-1], mean_scores[-1], moving_avgs[-1]))\n",
    "                          \n",
    "        if moving_avgs[-1] >= solved_score and i_episode >= consec_episodes:\n",
    "            print('\\nEnvironment SOLVED in {} episodes!\\tMoving Average ={:.1f} over last {} episodes'.format(\\\n",
    "                                    i_episode, moving_avgs[-1], consec_episodes))            \n",
    "            if train_mode:\n",
    "                torch.save(agent.actor_local.state_dict(), actor_path)\n",
    "                torch.save(agent.critic_local.state_dict(), critic_path)  \n",
    "            break\n",
    "            \n",
    "    return mean_scores, moving_avgs"
   ]
  },
  {
   "cell_type": "code",
   "execution_count": 7,
   "metadata": {
    "scrolled": false
   },
   "outputs": [
    {
     "name": "stdout",
     "output_type": "stream",
     "text": [
      "Episode 1 \tMin: 0.5\tMax: 2.0\tMean: 1.1\tMov. Avg: 1.1\n",
      "Episode 2 \tMin: 0.5\tMax: 4.3\tMean: 2.6\tMov. Avg: 1.8\n",
      "Episode 3 \tMin: 1.2\tMax: 6.1\tMean: 3.8\tMov. Avg: 2.5\n",
      "Episode 4 \tMin: 1.4\tMax: 5.8\tMean: 3.5\tMov. Avg: 2.7\n",
      "Episode 5 \tMin: 1.7\tMax: 6.9\tMean: 4.2\tMov. Avg: 3.0\n",
      "Episode 6 \tMin: 3.1\tMax: 6.8\tMean: 5.1\tMov. Avg: 3.4\n",
      "Episode 7 \tMin: 4.5\tMax: 8.8\tMean: 6.3\tMov. Avg: 3.8\n",
      "Episode 8 \tMin: 3.4\tMax: 17.5\tMean: 8.4\tMov. Avg: 4.4\n",
      "Episode 9 \tMin: 4.6\tMax: 12.6\tMean: 7.9\tMov. Avg: 4.7\n",
      "Episode 10 \tMin: 4.5\tMax: 17.9\tMean: 10.1\tMov. Avg: 5.3\n",
      "Episode 11 \tMin: 6.4\tMax: 17.7\tMean: 11.7\tMov. Avg: 5.9\n",
      "Episode 12 \tMin: 7.4\tMax: 14.8\tMean: 11.7\tMov. Avg: 6.4\n",
      "Episode 13 \tMin: 4.6\tMax: 16.0\tMean: 11.1\tMov. Avg: 6.7\n",
      "Episode 14 \tMin: 6.6\tMax: 17.6\tMean: 11.7\tMov. Avg: 7.1\n",
      "Episode 15 \tMin: 7.6\tMax: 17.0\tMean: 12.5\tMov. Avg: 7.4\n",
      "Episode 16 \tMin: 8.9\tMax: 20.2\tMean: 14.3\tMov. Avg: 7.9\n",
      "Episode 17 \tMin: 11.0\tMax: 21.4\tMean: 16.9\tMov. Avg: 8.4\n",
      "Episode 18 \tMin: 9.9\tMax: 20.0\tMean: 14.9\tMov. Avg: 8.8\n",
      "Episode 19 \tMin: 11.1\tMax: 24.4\tMean: 18.3\tMov. Avg: 9.3\n",
      "Episode 20 \tMin: 11.2\tMax: 28.6\tMean: 19.0\tMov. Avg: 9.8\n",
      "Episode 21 \tMin: 15.0\tMax: 29.7\tMean: 22.1\tMov. Avg: 10.3\n",
      "Episode 22 \tMin: 18.3\tMax: 26.7\tMean: 23.1\tMov. Avg: 10.9\n",
      "Episode 23 \tMin: 22.1\tMax: 33.5\tMean: 25.9\tMov. Avg: 11.6\n",
      "Episode 24 \tMin: 22.0\tMax: 32.0\tMean: 27.5\tMov. Avg: 12.2\n",
      "Episode 25 \tMin: 26.0\tMax: 34.6\tMean: 30.7\tMov. Avg: 13.0\n",
      "Episode 26 \tMin: 22.2\tMax: 35.1\tMean: 29.9\tMov. Avg: 13.6\n",
      "Episode 27 \tMin: 26.4\tMax: 36.8\tMean: 31.5\tMov. Avg: 14.3\n",
      "Episode 28 \tMin: 27.1\tMax: 37.6\tMean: 31.9\tMov. Avg: 14.9\n",
      "Episode 29 \tMin: 29.6\tMax: 37.2\tMean: 34.7\tMov. Avg: 15.6\n",
      "Episode 30 \tMin: 31.7\tMax: 37.7\tMean: 34.2\tMov. Avg: 16.2\n",
      "Episode 31 \tMin: 34.4\tMax: 38.9\tMean: 37.0\tMov. Avg: 16.9\n",
      "Episode 32 \tMin: 33.6\tMax: 39.5\tMean: 36.8\tMov. Avg: 17.5\n",
      "Episode 33 \tMin: 33.9\tMax: 38.7\tMean: 36.3\tMov. Avg: 18.1\n",
      "Episode 34 \tMin: 34.5\tMax: 38.9\tMean: 36.9\tMov. Avg: 18.6\n",
      "Episode 35 \tMin: 33.7\tMax: 39.4\tMean: 37.3\tMov. Avg: 19.2\n",
      "Episode 36 \tMin: 35.1\tMax: 39.0\tMean: 37.3\tMov. Avg: 19.7\n",
      "Episode 37 \tMin: 34.7\tMax: 39.0\tMean: 37.2\tMov. Avg: 20.1\n",
      "Episode 38 \tMin: 36.7\tMax: 39.2\tMean: 38.3\tMov. Avg: 20.6\n",
      "Episode 39 \tMin: 37.6\tMax: 39.6\tMean: 38.5\tMov. Avg: 21.1\n",
      "Episode 40 \tMin: 36.2\tMax: 39.3\tMean: 38.4\tMov. Avg: 21.5\n",
      "Episode 41 \tMin: 32.4\tMax: 39.5\tMean: 38.5\tMov. Avg: 21.9\n",
      "Episode 42 \tMin: 37.5\tMax: 39.6\tMean: 38.9\tMov. Avg: 22.3\n",
      "Episode 43 \tMin: 37.5\tMax: 39.5\tMean: 38.7\tMov. Avg: 22.7\n",
      "Episode 44 \tMin: 37.6\tMax: 39.5\tMean: 38.8\tMov. Avg: 23.1\n",
      "Episode 45 \tMin: 33.4\tMax: 39.5\tMean: 38.2\tMov. Avg: 23.4\n",
      "Episode 46 \tMin: 38.0\tMax: 39.5\tMean: 39.1\tMov. Avg: 23.8\n",
      "Episode 47 \tMin: 37.9\tMax: 39.5\tMean: 39.0\tMov. Avg: 24.1\n",
      "Episode 48 \tMin: 34.7\tMax: 39.4\tMean: 37.9\tMov. Avg: 24.4\n",
      "Episode 49 \tMin: 37.6\tMax: 39.6\tMean: 39.0\tMov. Avg: 24.7\n",
      "Episode 50 \tMin: 37.4\tMax: 39.6\tMean: 38.8\tMov. Avg: 24.9\n",
      "Episode 51 \tMin: 34.0\tMax: 39.5\tMean: 38.8\tMov. Avg: 25.2\n",
      "Episode 52 \tMin: 37.5\tMax: 39.6\tMean: 38.9\tMov. Avg: 25.5\n",
      "Episode 53 \tMin: 38.0\tMax: 39.6\tMean: 39.0\tMov. Avg: 25.7\n",
      "Episode 54 \tMin: 38.4\tMax: 39.6\tMean: 39.3\tMov. Avg: 26.0\n",
      "Episode 55 \tMin: 38.0\tMax: 39.6\tMean: 39.3\tMov. Avg: 26.2\n",
      "Episode 56 \tMin: 38.5\tMax: 39.6\tMean: 39.3\tMov. Avg: 26.5\n",
      "Episode 57 \tMin: 38.5\tMax: 39.6\tMean: 39.2\tMov. Avg: 26.7\n",
      "Episode 58 \tMin: 38.5\tMax: 39.6\tMean: 39.3\tMov. Avg: 26.9\n",
      "Episode 59 \tMin: 38.4\tMax: 39.6\tMean: 39.3\tMov. Avg: 27.1\n",
      "Episode 60 \tMin: 38.6\tMax: 39.6\tMean: 39.3\tMov. Avg: 27.3\n",
      "Episode 61 \tMin: 38.8\tMax: 39.6\tMean: 39.3\tMov. Avg: 27.5\n",
      "Episode 62 \tMin: 38.9\tMax: 39.6\tMean: 39.4\tMov. Avg: 27.7\n",
      "Episode 63 \tMin: 38.4\tMax: 39.6\tMean: 39.4\tMov. Avg: 27.9\n",
      "Episode 64 \tMin: 38.2\tMax: 39.6\tMean: 39.2\tMov. Avg: 28.1\n",
      "Episode 65 \tMin: 38.0\tMax: 39.6\tMean: 39.2\tMov. Avg: 28.2\n",
      "Episode 66 \tMin: 37.2\tMax: 39.6\tMean: 39.0\tMov. Avg: 28.4\n",
      "Episode 67 \tMin: 38.6\tMax: 39.6\tMean: 39.4\tMov. Avg: 28.6\n",
      "Episode 68 \tMin: 37.2\tMax: 39.6\tMean: 39.0\tMov. Avg: 28.7\n",
      "Episode 69 \tMin: 38.0\tMax: 39.6\tMean: 39.3\tMov. Avg: 28.9\n",
      "Episode 70 \tMin: 36.5\tMax: 39.6\tMean: 39.0\tMov. Avg: 29.0\n",
      "Episode 71 \tMin: 36.3\tMax: 39.7\tMean: 38.8\tMov. Avg: 29.2\n",
      "Episode 72 \tMin: 35.5\tMax: 39.6\tMean: 38.9\tMov. Avg: 29.3\n",
      "Episode 73 \tMin: 33.9\tMax: 39.5\tMean: 38.2\tMov. Avg: 29.4\n",
      "Episode 74 \tMin: 27.2\tMax: 39.5\tMean: 36.7\tMov. Avg: 29.5\n",
      "Episode 75 \tMin: 34.5\tMax: 39.6\tMean: 37.5\tMov. Avg: 29.6\n",
      "Episode 76 \tMin: 34.8\tMax: 39.5\tMean: 37.6\tMov. Avg: 29.7\n",
      "Episode 77 \tMin: 31.3\tMax: 39.4\tMean: 36.7\tMov. Avg: 29.8\n",
      "Episode 78 \tMin: 26.5\tMax: 39.3\tMean: 37.2\tMov. Avg: 29.9\n",
      "Episode 79 \tMin: 34.0\tMax: 39.3\tMean: 37.8\tMov. Avg: 30.0\n",
      "Episode 80 \tMin: 34.7\tMax: 38.9\tMean: 37.1\tMov. Avg: 30.1\n",
      "Episode 81 \tMin: 24.5\tMax: 39.4\tMean: 36.8\tMov. Avg: 30.2\n",
      "Episode 82 \tMin: 30.2\tMax: 39.6\tMean: 36.2\tMov. Avg: 30.3\n",
      "Episode 83 \tMin: 26.2\tMax: 39.2\tMean: 35.5\tMov. Avg: 30.3\n",
      "Episode 84 \tMin: 30.0\tMax: 39.1\tMean: 36.8\tMov. Avg: 30.4\n",
      "Episode 85 \tMin: 34.5\tMax: 39.0\tMean: 37.3\tMov. Avg: 30.5\n",
      "Episode 86 \tMin: 32.6\tMax: 38.8\tMean: 37.0\tMov. Avg: 30.6\n",
      "Episode 87 \tMin: 26.8\tMax: 39.6\tMean: 36.8\tMov. Avg: 30.6\n",
      "Episode 88 \tMin: 35.1\tMax: 39.6\tMean: 38.3\tMov. Avg: 30.7\n",
      "Episode 89 \tMin: 35.8\tMax: 39.6\tMean: 38.6\tMov. Avg: 30.8\n",
      "Episode 90 \tMin: 37.4\tMax: 39.6\tMean: 38.9\tMov. Avg: 30.9\n",
      "Episode 91 \tMin: 30.3\tMax: 39.3\tMean: 37.2\tMov. Avg: 31.0\n",
      "Episode 92 \tMin: 37.2\tMax: 39.4\tMean: 38.7\tMov. Avg: 31.0\n",
      "Episode 93 \tMin: 35.2\tMax: 39.6\tMean: 38.5\tMov. Avg: 31.1\n",
      "Episode 94 \tMin: 37.0\tMax: 39.6\tMean: 38.7\tMov. Avg: 31.2\n",
      "Episode 95 \tMin: 33.5\tMax: 39.5\tMean: 38.2\tMov. Avg: 31.3\n",
      "Episode 96 \tMin: 37.1\tMax: 39.4\tMean: 38.4\tMov. Avg: 31.3\n",
      "Episode 97 \tMin: 35.1\tMax: 38.8\tMean: 37.0\tMov. Avg: 31.4\n",
      "Episode 98 \tMin: 17.7\tMax: 39.5\tMean: 37.4\tMov. Avg: 31.5\n",
      "Episode 99 \tMin: 36.9\tMax: 39.4\tMean: 38.1\tMov. Avg: 31.5\n",
      "Episode 100 \tMin: 28.4\tMax: 39.6\tMean: 37.1\tMov. Avg: 31.6\n",
      "\n",
      "Environment SOLVED in 100 episodes!\tMoving Average =31.6 over last 100 episodes\n"
     ]
    }
   ],
   "source": [
    "agent = Agent(state_size=state_size, action_size=action_size, random_seed=1)\n",
    "scores, avgs = ddpg()"
   ]
  },
  {
   "cell_type": "code",
   "execution_count": 32,
   "metadata": {},
   "outputs": [
    {
     "data": {
      "image/png": "[encoded data removed]",
      "text/plain": [
       "<Figure size 432x288 with 1 Axes>"
      ]
     },
     "metadata": {
      "needs_background": "light"
     },
     "output_type": "display_data"
    }
   ],
   "source": [
    "# plot the scores\n",
    "fig = plt.figure()\n",
    "ax = fig.add_subplot(111)\n",
    "plt.plot(np.arange(len(scores)), scores, label = 'Scores')\n",
    "plt.plot(np.arange(len(scores)), avgs, label = 'Moving Average')\n",
    "plt.plot(np.arange(len(scores)), np.full(len(scores), 30), label = 'Threshold')\n",
    "arrow_properties = dict(\n",
    "    facecolor=\"black\", width=0.5,\n",
    "    headwidth=4, shrink=0.1)\n",
    "\n",
    "plt.annotate(\n",
    "    \"Final Score: \" + str(round(scores[-1])), xy=(100, scores[-1]),\n",
    "    xytext=(50, 45),\n",
    "    arrowprops=arrow_properties)\n",
    "\n",
    "plt.annotate(\n",
    "    \"Final Moving Average: \" + str(round(avgs[-1])), xy=(100, avgs[-1]),\n",
    "    xytext=(50, 20),\n",
    "    arrowprops=arrow_properties)\n",
    "\n",
    "plt.ylabel('Score')\n",
    "plt.xlabel('Episode #')\n",
    "plt.legend()\n",
    "plt.show()"
   ]
  },
  {
   "cell_type": "code",
   "execution_count": 5,
   "metadata": {},
   "outputs": [],
   "source": [
    "agent = Agent(state_size=state_size, action_size=action_size, random_seed=1)"
   ]
  },
  {
   "cell_type": "code",
   "execution_count": 6,
   "metadata": {},
   "outputs": [
    {
     "name": "stdout",
     "output_type": "stream",
     "text": [
      "Total score: 38.50549913933501\n"
     ]
    }
   ],
   "source": [
    "# Load the saved weights\n",
    "agent.actor_local.load_state_dict(torch.load('./models/actor_ckpt.pth', map_location='cpu'))\n",
    "agent.critic_local.load_state_dict(torch.load('./models/critic_ckpt.pth', map_location='cpu'))\n",
    "\n",
    "env_info = env.reset(train_mode=False)[brain_name]     # reset the environment    \n",
    "states = env_info.vector_observations                  # get the current state (for each agent)\n",
    "scores = np.zeros(20)                          # initialize the score (for each agent)\n",
    "\n",
    "# Run for a time\n",
    "for _ in range(1000):\n",
    "    actions = agent.act(states, add_noise = False)                        # select actions from loaded model agent\n",
    "    env_info = env.step(actions)[brain_name]           # send all actions to tne environment\n",
    "    next_states = env_info.vector_observations         # get next state (for each agent)\n",
    "    rewards = env_info.rewards                         # get reward (for each agent)\n",
    "    dones = env_info.local_done                        # see if episode finished\n",
    "    scores += env_info.rewards                         # update the score (for each agent)\n",
    "    states = next_states                               # roll over states to next time step\n",
    "    if np.any(dones):                                  # exit loop if episode finished\n",
    "        break\n",
    "\n",
    "print('Total score: {}'.format(np.mean(scores)))"
   ]
  },
  {
   "cell_type": "code",
   "execution_count": 10,
   "metadata": {},
   "outputs": [],
   "source": [
    "env.close()"
   ]
  }
 ],
 "metadata": {
  "kernelspec": {
   "display_name": "Python 3",
   "language": "python",
   "name": "python3"
  },
  "language_info": {
   "codemirror_mode": {
    "name": "ipython",
    "version": 3
   },
   "file_extension": ".py",
   "mimetype": "text/x-python",
   "name": "python",
   "nbconvert_exporter": "python",
   "pygments_lexer": "ipython3",
   "version": "3.6.8"
  }
 },
 "nbformat": 4,
 "nbformat_minor": 2
}
